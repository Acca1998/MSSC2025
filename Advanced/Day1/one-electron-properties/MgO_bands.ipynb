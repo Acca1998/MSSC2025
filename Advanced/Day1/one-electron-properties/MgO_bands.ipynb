{
 "cells": [
  {
   "cell_type": "code",
   "execution_count": 3,
   "id": "2749afa5",
   "metadata": {},
   "outputs": [
    {
     "name": "stdout",
     "output_type": "stream",
     "text": [
      "Collecting crystalclear\n",
      "  Downloading crystalclear-0.2.7-py3-none-any.whl (129 kB)\n",
      "Collecting mendeleev\n",
      "  Downloading mendeleev-0.19.0-py3-none-any.whl (1.4 MB)\n",
      "Collecting ase\n",
      "  Downloading ase-3.23.0-py3-none-any.whl (2.9 MB)\n",
      "Collecting pymatgen\n",
      "  Downloading pymatgen-2023.8.10-cp38-cp38-win_amd64.whl (7.3 MB)\n",
      "Requirement already satisfied: numpy>=1.18.5 in c:\\users\\hp\\anaconda3\\lib\\site-packages (from ase->crystalclear) (1.20.1)\n",
      "Requirement already satisfied: matplotlib>=3.3.4 in c:\\users\\hp\\appdata\\roaming\\python\\python38\\site-packages (from ase->crystalclear) (3.7.5)\n",
      "Requirement already satisfied: scipy>=1.6.0 in c:\\users\\hp\\anaconda3\\lib\\site-packages (from ase->crystalclear) (1.6.2)\n",
      "Requirement already satisfied: pyparsing>=2.3.1 in c:\\users\\hp\\anaconda3\\lib\\site-packages (from matplotlib>=3.3.4->ase->crystalclear) (2.4.7)\n",
      "Requirement already satisfied: fonttools>=4.22.0 in c:\\users\\hp\\anaconda3\\lib\\site-packages (from matplotlib>=3.3.4->ase->crystalclear) (4.57.0)\n",
      "Requirement already satisfied: kiwisolver>=1.0.1 in c:\\users\\hp\\anaconda3\\lib\\site-packages (from matplotlib>=3.3.4->ase->crystalclear) (1.3.1)\n",
      "Requirement already satisfied: python-dateutil>=2.7 in c:\\users\\hp\\anaconda3\\lib\\site-packages (from matplotlib>=3.3.4->ase->crystalclear) (2.8.1)\n",
      "Requirement already satisfied: pillow>=6.2.0 in c:\\users\\hp\\anaconda3\\lib\\site-packages (from matplotlib>=3.3.4->ase->crystalclear) (8.2.0)\n",
      "Requirement already satisfied: contourpy>=1.0.1 in c:\\users\\hp\\anaconda3\\lib\\site-packages (from matplotlib>=3.3.4->ase->crystalclear) (1.1.1)\n",
      "Requirement already satisfied: importlib-resources>=3.2.0 in c:\\users\\hp\\anaconda3\\lib\\site-packages (from matplotlib>=3.3.4->ase->crystalclear) (6.4.5)\n",
      "Requirement already satisfied: packaging>=20.0 in c:\\users\\hp\\anaconda3\\lib\\site-packages (from matplotlib>=3.3.4->ase->crystalclear) (20.9)\n",
      "Requirement already satisfied: cycler>=0.10 in c:\\users\\hp\\anaconda3\\lib\\site-packages (from matplotlib>=3.3.4->ase->crystalclear) (0.10.0)\n",
      "Requirement already satisfied: six in c:\\users\\hp\\anaconda3\\lib\\site-packages (from cycler>=0.10->matplotlib>=3.3.4->ase->crystalclear) (1.15.0)\n",
      "Requirement already satisfied: zipp>=3.1.0 in c:\\users\\hp\\anaconda3\\lib\\site-packages (from importlib-resources>=3.2.0->matplotlib>=3.3.4->ase->crystalclear) (3.4.1)\n",
      "Requirement already satisfied: SQLAlchemy>=1.4.0 in c:\\users\\hp\\anaconda3\\lib\\site-packages (from mendeleev->crystalclear) (1.4.7)\n",
      "Collecting deprecated<2.0.0,>=1.2.14\n",
      "  Downloading Deprecated-1.2.18-py2.py3-none-any.whl (10.0 kB)\n",
      "Collecting Pygments<3.0.0,>=2.11.2\n",
      "  Downloading pygments-2.19.2-py3-none-any.whl (1.2 MB)\n",
      "Collecting pydantic<3.0.0,>=2.9.2\n",
      "  Downloading pydantic-2.10.6-py3-none-any.whl (431 kB)\n",
      "Requirement already satisfied: pandas>=1.0.0 in c:\\users\\hp\\anaconda3\\lib\\site-packages (from mendeleev->crystalclear) (1.2.4)\n",
      "Collecting colorama<0.5.0,>=0.4.6\n",
      "  Downloading colorama-0.4.6-py2.py3-none-any.whl (25 kB)\n",
      "Collecting pyfiglet<0.9,>=0.8.post1\n",
      "  Downloading pyfiglet-0.8.post1-py2.py3-none-any.whl (865 kB)\n",
      "Collecting numpy>=1.18.5\n",
      "  Downloading numpy-1.22.4-cp38-cp38-win_amd64.whl (14.8 MB)\n",
      "Requirement already satisfied: wrapt<2,>=1.10 in c:\\users\\hp\\anaconda3\\lib\\site-packages (from deprecated<2.0.0,>=1.2.14->mendeleev->crystalclear) (1.12.1)\n",
      "Requirement already satisfied: pytz>=2017.3 in c:\\users\\hp\\anaconda3\\lib\\site-packages (from pandas>=1.0.0->mendeleev->crystalclear) (2021.1)\n",
      "Collecting pydantic-core==2.27.2\n",
      "  Downloading pydantic_core-2.27.2-cp38-cp38-win_amd64.whl (2.0 MB)\n",
      "Collecting annotated-types>=0.6.0\n",
      "  Downloading annotated_types-0.7.0-py3-none-any.whl (13 kB)\n",
      "Collecting typing-extensions>=4.12.2\n",
      "  Downloading typing_extensions-4.13.2-py3-none-any.whl (45 kB)\n",
      "Requirement already satisfied: greenlet!=0.4.17 in c:\\users\\hp\\anaconda3\\lib\\site-packages (from SQLAlchemy>=1.4.0->mendeleev->crystalclear) (1.0.0)\n",
      "Requirement already satisfied: sympy in c:\\users\\hp\\anaconda3\\lib\\site-packages (from pymatgen->crystalclear) (1.8)\n",
      "Collecting spglib>=2.0.2\n",
      "  Downloading spglib-2.4.0-cp38-cp38-win_amd64.whl (299 kB)\n",
      "Collecting ruamel.yaml>=0.17.0\n",
      "  Downloading ruamel.yaml-0.18.14-py3-none-any.whl (118 kB)\n",
      "Collecting palettable>=3.1.1\n",
      "  Downloading palettable-3.3.3-py2.py3-none-any.whl (332 kB)\n",
      "Collecting pybtex\n",
      "  Downloading pybtex-0.25.1-py2.py3-none-any.whl (127 kB)\n",
      "Collecting uncertainties>=3.1.4\n",
      "  Downloading uncertainties-3.2.3-py3-none-any.whl (60 kB)\n",
      "Requirement already satisfied: plotly>=4.5.0 in c:\\users\\hp\\anaconda3\\lib\\site-packages (from pymatgen->crystalclear) (5.3.1)\n",
      "Collecting pymatgen\n",
      "  Downloading pymatgen-2023.7.20-cp38-cp38-win_amd64.whl (10.2 MB)\n",
      "  Downloading pymatgen-2023.7.17-cp38-cp38-win_amd64.whl (10.2 MB)\n",
      "  Downloading pymatgen-2023.7.14-cp38-cp38-win_amd64.whl (10.2 MB)\n",
      "  Downloading pymatgen-2023.7.11-cp38-cp38-win_amd64.whl (10.2 MB)\n",
      "  Downloading pymatgen-2023.6.23-cp38-cp38-win_amd64.whl (10.2 MB)\n",
      "Collecting frozendict\n",
      "  Downloading frozendict-2.4.6-cp38-cp38-win_amd64.whl (37 kB)\n",
      "Requirement already satisfied: tabulate in c:\\users\\hp\\anaconda3\\lib\\site-packages (from pymatgen->crystalclear) (0.8.9)\n",
      "Requirement already satisfied: requests in c:\\users\\hp\\anaconda3\\lib\\site-packages (from pymatgen->crystalclear) (2.25.1)\n",
      "Requirement already satisfied: networkx>=2.2 in c:\\users\\hp\\anaconda3\\lib\\site-packages (from pymatgen->crystalclear) (2.5)\n",
      "Requirement already satisfied: tqdm in c:\\users\\hp\\anaconda3\\lib\\site-packages (from pymatgen->crystalclear) (4.59.0)\n",
      "Collecting mp-api<0.34.0,>=0.27.3\n",
      "  Downloading mp_api-0.33.3-py3-none-any.whl (75 kB)\n",
      "Collecting monty>=3.0.2\n",
      "  Downloading monty-2023.9.25-py3-none-any.whl (63 kB)\n",
      "Requirement already satisfied: msgpack in c:\\users\\hp\\anaconda3\\lib\\site-packages (from mp-api<0.34.0,>=0.27.3->pymatgen->crystalclear) (1.0.2)\n",
      "Collecting emmet-core>=0.54.0\n",
      "  Downloading emmet_core-0.68.0-py3-none-any.whl (170 kB)\n",
      "Requirement already satisfied: setuptools in c:\\users\\hp\\anaconda3\\lib\\site-packages (from mp-api<0.34.0,>=0.27.3->pymatgen->crystalclear) (52.0.0.post20210125)\n",
      "  Downloading emmet_core-0.67.5-py3-none-any.whl (170 kB)\n",
      "  Downloading emmet_core-0.67.4-py3-none-any.whl (170 kB)\n",
      "  Downloading emmet_core-0.67.3-py3-none-any.whl (170 kB)\n",
      "  Downloading emmet_core-0.67.2-py3-none-any.whl (170 kB)\n",
      "  Downloading emmet_core-0.67.1-py3-none-any.whl (170 kB)\n",
      "  Downloading emmet_core-0.67.0-py3-none-any.whl (170 kB)\n",
      "  Downloading emmet_core-0.66.0-py3-none-any.whl (170 kB)\n",
      "  Downloading emmet_core-0.65.0-py3-none-any.whl (170 kB)\n",
      "  Downloading emmet_core-0.64.6-py3-none-any.whl (169 kB)\n",
      "  Downloading emmet_core-0.64.5-py3-none-any.whl (154 kB)\n",
      "  Downloading emmet_core-0.64.4-py3-none-any.whl (154 kB)\n",
      "  Downloading emmet_core-0.64.3-py3-none-any.whl (154 kB)\n",
      "  Downloading emmet_core-0.64.2-py3-none-any.whl (154 kB)\n",
      "  Downloading emmet_core-0.64.0-py3-none-any.whl (154 kB)\n",
      "  Downloading emmet_core-0.63.1-py3-none-any.whl (154 kB)\n",
      "  Downloading emmet_core-0.63.0-py3-none-any.whl (154 kB)\n",
      "  Downloading emmet_core-0.62.0-py3-none-any.whl (154 kB)\n",
      "  Downloading emmet_core-0.61.0-py3-none-any.whl (154 kB)\n",
      "  Downloading emmet_core-0.60.3-py3-none-any.whl (154 kB)\n",
      "  Downloading emmet_core-0.60.2-py3-none-any.whl (154 kB)\n",
      "  Downloading emmet_core-0.60.1-py3-none-any.whl (154 kB)\n",
      "  Downloading emmet_core-0.60.0-py3-none-any.whl (154 kB)\n",
      "  Downloading emmet_core-0.59.0-py3-none-any.whl (154 kB)\n",
      "  Downloading emmet_core-0.58.2-py3-none-any.whl (154 kB)\n",
      "  Downloading emmet_core-0.58.1-py3-none-any.whl (154 kB)\n",
      "  Downloading emmet_core-0.58.0-py3-none-any.whl (154 kB)\n",
      "Requirement already satisfied: decorator>=4.3.0 in c:\\users\\hp\\anaconda3\\lib\\site-packages (from networkx>=2.2->pymatgen->crystalclear) (5.0.6)\n",
      "Requirement already satisfied: tenacity>=6.2.0 in c:\\users\\hp\\anaconda3\\lib\\site-packages (from plotly>=4.5.0->pymatgen->crystalclear) (8.0.1)\n",
      "Requirement already satisfied: importlib_metadata in c:\\users\\hp\\anaconda3\\lib\\site-packages (from pybtex->pymatgen->crystalclear) (3.10.0)\n",
      "Collecting latexcodec>=1.0.4\n",
      "  Downloading latexcodec-3.0.0-py3-none-any.whl (18 kB)\n",
      "Requirement already satisfied: PyYAML>=3.01 in c:\\users\\hp\\anaconda3\\lib\\site-packages (from pybtex->pymatgen->crystalclear) (5.4.1)\n",
      "Requirement already satisfied: chardet<5,>=3.0.2 in c:\\users\\hp\\anaconda3\\lib\\site-packages (from requests->pymatgen->crystalclear) (4.0.0)\n",
      "Requirement already satisfied: certifi>=2017.4.17 in c:\\users\\hp\\anaconda3\\lib\\site-packages (from requests->pymatgen->crystalclear) (2020.12.5)\n",
      "Requirement already satisfied: idna<3,>=2.5 in c:\\users\\hp\\anaconda3\\lib\\site-packages (from requests->pymatgen->crystalclear) (2.10)\n",
      "Requirement already satisfied: urllib3<1.27,>=1.21.1 in c:\\users\\hp\\anaconda3\\lib\\site-packages (from requests->pymatgen->crystalclear) (1.26.4)\n",
      "Collecting ruamel.yaml.clib>=0.2.7\n",
      "  Downloading ruamel.yaml.clib-0.2.8-cp38-cp38-win_amd64.whl (118 kB)\n",
      "Requirement already satisfied: mpmath>=0.19 in c:\\users\\hp\\anaconda3\\lib\\site-packages (from sympy->pymatgen->crystalclear) (1.2.1)\n",
      "Note: you may need to restart the kernel to use updated packages.\n"
     ]
    },
    {
     "name": "stderr",
     "output_type": "stream",
     "text": [
      "ERROR: pip's dependency resolver does not currently take into account all the packages that are installed. This behaviour is the source of the following dependency conflicts.\n",
      "spyder 4.2.5 requires pyqt5<5.13, which is not installed.\n",
      "spyder 4.2.5 requires pyqtwebengine<5.13, which is not installed.\n",
      "pylint 2.7.4 requires astroid<2.7,>=2.5.2, but you have astroid 2.5 which is incompatible.\n",
      "anaconda-cloud-auth 0.1.4 requires pydantic<2.0, but you have pydantic 2.10.6 which is incompatible.\n",
      "anaconda-cloud-auth 0.1.4 requires semver<3, but you have semver 3.0.2 which is incompatible.\n"
     ]
    },
    {
     "name": "stdout",
     "output_type": "stream",
     "text": [
      "Installing collected packages: typing-extensions, pydantic-core, numpy, latexcodec, annotated-types, spglib, pydantic, pybtex, monty, ruamel.yaml.clib, emmet-core, uncertainties, ruamel.yaml, Pygments, pyfiglet, palettable, mp-api, frozendict, deprecated, colorama, pymatgen, mendeleev, ase, crystalclear\n",
      "  Attempting uninstall: typing-extensions\n",
      "    Found existing installation: typing-extensions 3.7.4.3\n",
      "    Uninstalling typing-extensions-3.7.4.3:\n",
      "      Successfully uninstalled typing-extensions-3.7.4.3\n",
      "  Attempting uninstall: numpy\n",
      "    Found existing installation: numpy 1.20.1\n",
      "    Uninstalling numpy-1.20.1:\n",
      "      Successfully uninstalled numpy-1.20.1\n",
      "  Attempting uninstall: pydantic\n",
      "    Found existing installation: pydantic 0.18.2\n",
      "    Uninstalling pydantic-0.18.2:\n",
      "      Successfully uninstalled pydantic-0.18.2\n",
      "  Attempting uninstall: Pygments\n",
      "    Found existing installation: Pygments 2.8.1\n",
      "    Uninstalling Pygments-2.8.1:\n",
      "      Successfully uninstalled Pygments-2.8.1\n",
      "  Attempting uninstall: colorama\n",
      "    Found existing installation: colorama 0.4.4\n",
      "    Uninstalling colorama-0.4.4:\n",
      "      Successfully uninstalled colorama-0.4.4\n",
      "Successfully installed Pygments-2.19.2 annotated-types-0.7.0 ase-3.23.0 colorama-0.4.6 crystalclear-0.2.7 deprecated-1.2.18 emmet-core-0.58.0 frozendict-2.4.6 latexcodec-3.0.0 mendeleev-0.19.0 monty-2023.9.25 mp-api-0.33.3 numpy-1.22.4 palettable-3.3.3 pybtex-0.25.1 pydantic-2.10.6 pydantic-core-2.27.2 pyfiglet-0.8.post1 pymatgen-2023.6.23 ruamel.yaml-0.18.14 ruamel.yaml.clib-0.2.8 spglib-2.4.0 typing-extensions-4.13.2 uncertainties-3.2.3\n"
     ]
    }
   ],
   "source": [
    "pip install crystalclear"
   ]
  },
  {
   "cell_type": "code",
   "execution_count": 1,
   "id": "03282180",
   "metadata": {},
   "outputs": [],
   "source": [
    "from CRYSTALClear.crystal_io import Properties_output\n",
    "import CRYSTALClear.plot as CCplt"
   ]
  },
  {
   "cell_type": "code",
   "execution_count": 2,
   "id": "4b89bc6e",
   "metadata": {},
   "outputs": [],
   "source": [
    "path = ['mgo_band.BAND']"
   ]
  },
  {
   "cell_type": "code",
   "execution_count": 3,
   "id": "92f191c7",
   "metadata": {},
   "outputs": [
    {
     "data": {
      "text/plain": [
       "(<Figure size 720x720 with 1 Axes>, <Axes: >)"
      ]
     },
     "execution_count": 3,
     "metadata": {},
     "output_type": "execute_result"
    },
    {
     "data": {
      "image/png": "[encoded data removed]",
      "text/plain": [
       "<Figure size 720x720 with 1 Axes>"
      ]
     },
     "metadata": {
      "needs_background": "light"
     },
     "output_type": "display_data"
    }
   ],
   "source": [
    "bands = []\n",
    "\n",
    "for file in path:\n",
    "    bands.append(Properties_output().read_electron_band(file))\n",
    "\n",
    "CCplt.plot_electron_band(bands, energy_range=[-10,15], linewidth=1.5, figsize=(10,10), k_labels=['Gamma','X','W','L','Gamma'])"
   ]
  },
  {
   "cell_type": "code",
   "execution_count": null,
   "id": "9bdd465a",
   "metadata": {},
   "outputs": [],
   "source": []
  }
 ],
 "metadata": {
  "kernelspec": {
   "display_name": "Python 3",
   "language": "python",
   "name": "python3"
  },
  "language_info": {
   "codemirror_mode": {
    "name": "ipython",
    "version": 3
   },
   "file_extension": ".py",
   "mimetype": "text/x-python",
   "name": "python",
   "nbconvert_exporter": "python",
   "pygments_lexer": "ipython3",
   "version": "3.8.8"
  }
 },
 "nbformat": 4,
 "nbformat_minor": 5
}
